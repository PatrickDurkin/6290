{
 "cells": [
  {
   "cell_type": "code",
   "execution_count": 2,
   "metadata": {},
   "outputs": [],
   "source": [
    "from amazon_product_review_scraper import amazon_product_review_scraper"
   ]
  },
  {
   "cell_type": "code",
   "execution_count": 12,
   "metadata": {},
   "outputs": [],
   "source": [
    "asin = [\"B01IBM5V66\", \"B07JDH2C8X\", \"B07S31CP9G\"]\n",
    "counter = 0\n",
    "reviews_df = []"
   ]
  },
  {
   "cell_type": "code",
   "execution_count": 13,
   "metadata": {},
   "outputs": [
    {
     "name": "stdout",
     "output_type": "stream",
     "text": [
      "Total reviews (all pages): 2752\n",
      "Total pages: 276\n",
      "Start page: 1; End page: 276\n",
      "\n",
      "Started!\n"
     ]
    },
    {
     "data": {
      "application/vnd.jupyter.widget-view+json": {
       "model_id": "bc253c7d251b403c98f618cc4d395137",
       "version_major": 2,
       "version_minor": 0
      },
      "text/plain": [
       "HBox(children=(FloatProgress(value=0.0, max=276.0), HTML(value='')))"
      ]
     },
     "metadata": {},
     "output_type": "display_data"
    },
    {
     "name": "stdout",
     "output_type": "stream",
     "text": [
      "\n",
      "Completed!\n",
      "Total reviews (all pages): 271\n",
      "Total pages: 28\n",
      "Start page: 1; End page: 28\n",
      "\n",
      "Started!\n"
     ]
    },
    {
     "data": {
      "application/vnd.jupyter.widget-view+json": {
       "model_id": "200b7dbfff2342039130272ec801c0c9",
       "version_major": 2,
       "version_minor": 0
      },
      "text/plain": [
       "HBox(children=(FloatProgress(value=0.0, max=28.0), HTML(value='')))"
      ]
     },
     "metadata": {},
     "output_type": "display_data"
    },
    {
     "name": "stdout",
     "output_type": "stream",
     "text": [
      "\n",
      "Completed!\n",
      "Total reviews (all pages): 194\n",
      "Total pages: 20\n",
      "Start page: 1; End page: 20\n",
      "\n",
      "Started!\n"
     ]
    },
    {
     "data": {
      "application/vnd.jupyter.widget-view+json": {
       "model_id": "3c3878550cfd4634be98a043c452fd0e",
       "version_major": 2,
       "version_minor": 0
      },
      "text/plain": [
       "HBox(children=(FloatProgress(value=0.0, max=20.0), HTML(value='')))"
      ]
     },
     "metadata": {},
     "output_type": "display_data"
    },
    {
     "name": "stdout",
     "output_type": "stream",
     "text": [
      "\n",
      "Completed!\n"
     ]
    }
   ],
   "source": [
    "for x in asin:\n",
    "    review_scraper = amazon_product_review_scraper(amazon_site = \"amazon.in\", product_asin = x)\n",
    "    reviews_df.append(review_scraper.scrape())\n",
    "    counter = counter + 1"
   ]
  },
  {
   "cell_type": "code",
   "execution_count": 9,
   "metadata": {},
   "outputs": [
    {
     "data": {
      "text/html": [
       "<div>\n",
       "<style scoped>\n",
       "    .dataframe tbody tr th:only-of-type {\n",
       "        vertical-align: middle;\n",
       "    }\n",
       "\n",
       "    .dataframe tbody tr th {\n",
       "        vertical-align: top;\n",
       "    }\n",
       "\n",
       "    .dataframe thead th {\n",
       "        text-align: right;\n",
       "    }\n",
       "</style>\n",
       "<table border=\"1\" class=\"dataframe\">\n",
       "  <thead>\n",
       "    <tr style=\"text-align: right;\">\n",
       "      <th></th>\n",
       "      <th>date_info</th>\n",
       "      <th>name</th>\n",
       "      <th>title</th>\n",
       "      <th>content</th>\n",
       "      <th>rating</th>\n",
       "    </tr>\n",
       "  </thead>\n",
       "  <tbody>\n",
       "    <tr>\n",
       "      <th>0</th>\n",
       "      <td>Reviewed in India on 18 October 2018</td>\n",
       "      <td>Magesvarane</td>\n",
       "      <td>Dejected for the first time in Amazon &amp; LG</td>\n",
       "      <td>The problem is in the picture clarity. The lef...</td>\n",
       "      <td>1.0 out of 5 stars</td>\n",
       "    </tr>\n",
       "    <tr>\n",
       "      <th>1</th>\n",
       "      <td>Reviewed in India on 7 December 2018</td>\n",
       "      <td>Sukant Sharma</td>\n",
       "      <td>Overall a Good Product at this Price</td>\n",
       "      <td>This is a good 1080p monitor at this price:. i...</td>\n",
       "      <td>5.0 out of 5 stars</td>\n",
       "    </tr>\n",
       "    <tr>\n",
       "      <th>2</th>\n",
       "      <td>Reviewed in India on 7 August 2019</td>\n",
       "      <td>Ankit Jain</td>\n",
       "      <td>Best Budget Gaming Moniter</td>\n",
       "      <td>Excellent monitor at this price range .display...</td>\n",
       "      <td>5.0 out of 5 stars</td>\n",
       "    </tr>\n",
       "    <tr>\n",
       "      <th>3</th>\n",
       "      <td>Reviewed in India on 11 September 2017</td>\n",
       "      <td>Polash Majumdar</td>\n",
       "      <td>One of the best value for money</td>\n",
       "      <td>This is a splendid product. Very to-the-point ...</td>\n",
       "      <td>5.0 out of 5 stars</td>\n",
       "    </tr>\n",
       "    <tr>\n",
       "      <th>4</th>\n",
       "      <td>Reviewed in India on 10 May 2019</td>\n",
       "      <td>Sandhikshan Das</td>\n",
       "      <td>A monitor that beats every other with IPS Cine...</td>\n",
       "      <td>The whole box comes with plastic visible wrapp...</td>\n",
       "      <td>5.0 out of 5 stars</td>\n",
       "    </tr>\n",
       "  </tbody>\n",
       "</table>\n",
       "</div>"
      ],
      "text/plain": [
       "                                date_info             name  \\\n",
       "0    Reviewed in India on 18 October 2018     Magesvarane    \n",
       "1    Reviewed in India on 7 December 2018    Sukant Sharma   \n",
       "2      Reviewed in India on 7 August 2019       Ankit Jain   \n",
       "3  Reviewed in India on 11 September 2017  Polash Majumdar   \n",
       "4        Reviewed in India on 10 May 2019  Sandhikshan Das   \n",
       "\n",
       "                                               title  \\\n",
       "0         Dejected for the first time in Amazon & LG   \n",
       "1               Overall a Good Product at this Price   \n",
       "2                         Best Budget Gaming Moniter   \n",
       "3                    One of the best value for money   \n",
       "4  A monitor that beats every other with IPS Cine...   \n",
       "\n",
       "                                             content              rating  \n",
       "0  The problem is in the picture clarity. The lef...  1.0 out of 5 stars  \n",
       "1  This is a good 1080p monitor at this price:. i...  5.0 out of 5 stars  \n",
       "2  Excellent monitor at this price range .display...  5.0 out of 5 stars  \n",
       "3  This is a splendid product. Very to-the-point ...  5.0 out of 5 stars  \n",
       "4  The whole box comes with plastic visible wrapp...  5.0 out of 5 stars  "
      ]
     },
     "execution_count": 9,
     "metadata": {},
     "output_type": "execute_result"
    }
   ],
   "source": [
    "reviews_df[0].head(5)"
   ]
  },
  {
   "cell_type": "code",
   "execution_count": 10,
   "metadata": {},
   "outputs": [
    {
     "data": {
      "text/html": [
       "<div>\n",
       "<style scoped>\n",
       "    .dataframe tbody tr th:only-of-type {\n",
       "        vertical-align: middle;\n",
       "    }\n",
       "\n",
       "    .dataframe tbody tr th {\n",
       "        vertical-align: top;\n",
       "    }\n",
       "\n",
       "    .dataframe thead th {\n",
       "        text-align: right;\n",
       "    }\n",
       "</style>\n",
       "<table border=\"1\" class=\"dataframe\">\n",
       "  <thead>\n",
       "    <tr style=\"text-align: right;\">\n",
       "      <th></th>\n",
       "      <th>date_info</th>\n",
       "      <th>name</th>\n",
       "      <th>title</th>\n",
       "      <th>content</th>\n",
       "      <th>rating</th>\n",
       "    </tr>\n",
       "  </thead>\n",
       "  <tbody>\n",
       "    <tr>\n",
       "      <th>0</th>\n",
       "      <td>Reviewed in India on 3 November 2019</td>\n",
       "      <td>TechMan</td>\n",
       "      <td>Best 21\" 1080P Monitor, In-Depth review.</td>\n",
       "      <td>First of all It’s the best 1080P 22” 75Hz in i...</td>\n",
       "      <td>5.0 out of 5 stars</td>\n",
       "    </tr>\n",
       "    <tr>\n",
       "      <th>1</th>\n",
       "      <td>Reviewed in India on 18 July 2019</td>\n",
       "      <td>mohit</td>\n",
       "      <td>Perfect monitor</td>\n",
       "      <td>Best budget monitor in this price</td>\n",
       "      <td>5.0 out of 5 stars</td>\n",
       "    </tr>\n",
       "    <tr>\n",
       "      <th>2</th>\n",
       "      <td>Reviewed in India on 5 February 2019</td>\n",
       "      <td>Nitish Sadhwa</td>\n",
       "      <td>Good product</td>\n",
       "      <td>It's a good gaming monitor with 4ms response t...</td>\n",
       "      <td>4.0 out of 5 stars</td>\n",
       "    </tr>\n",
       "    <tr>\n",
       "      <th>3</th>\n",
       "      <td>Reviewed in India on 21 January 2020</td>\n",
       "      <td>Subhasish N.</td>\n",
       "      <td>Best at this price range 🔥</td>\n",
       "      <td>So, here it is guys♥️. Got it for ₹8999 on ama...</td>\n",
       "      <td>5.0 out of 5 stars</td>\n",
       "    </tr>\n",
       "    <tr>\n",
       "      <th>4</th>\n",
       "      <td>Reviewed in India on 16 August 2019</td>\n",
       "      <td>Scizor</td>\n",
       "      <td>Bleeding, banding, acer never.</td>\n",
       "      <td>Its nice, 75hz refresh rate, good colors, aver...</td>\n",
       "      <td>1.0 out of 5 stars</td>\n",
       "    </tr>\n",
       "  </tbody>\n",
       "</table>\n",
       "</div>"
      ],
      "text/plain": [
       "                              date_info           name  \\\n",
       "0  Reviewed in India on 3 November 2019        TechMan   \n",
       "1     Reviewed in India on 18 July 2019         mohit    \n",
       "2  Reviewed in India on 5 February 2019  Nitish Sadhwa   \n",
       "3  Reviewed in India on 21 January 2020   Subhasish N.   \n",
       "4   Reviewed in India on 16 August 2019         Scizor   \n",
       "\n",
       "                                      title  \\\n",
       "0  Best 21\" 1080P Monitor, In-Depth review.   \n",
       "1                           Perfect monitor   \n",
       "2                              Good product   \n",
       "3                Best at this price range 🔥   \n",
       "4            Bleeding, banding, acer never.   \n",
       "\n",
       "                                             content              rating  \n",
       "0  First of all It’s the best 1080P 22” 75Hz in i...  5.0 out of 5 stars  \n",
       "1                  Best budget monitor in this price  5.0 out of 5 stars  \n",
       "2  It's a good gaming monitor with 4ms response t...  4.0 out of 5 stars  \n",
       "3  So, here it is guys♥️. Got it for ₹8999 on ama...  5.0 out of 5 stars  \n",
       "4  Its nice, 75hz refresh rate, good colors, aver...  1.0 out of 5 stars  "
      ]
     },
     "execution_count": 10,
     "metadata": {},
     "output_type": "execute_result"
    }
   ],
   "source": [
    "reviews_df[1].head(5)"
   ]
  },
  {
   "cell_type": "code",
   "execution_count": 14,
   "metadata": {},
   "outputs": [
    {
     "data": {
      "text/html": [
       "<div>\n",
       "<style scoped>\n",
       "    .dataframe tbody tr th:only-of-type {\n",
       "        vertical-align: middle;\n",
       "    }\n",
       "\n",
       "    .dataframe tbody tr th {\n",
       "        vertical-align: top;\n",
       "    }\n",
       "\n",
       "    .dataframe thead th {\n",
       "        text-align: right;\n",
       "    }\n",
       "</style>\n",
       "<table border=\"1\" class=\"dataframe\">\n",
       "  <thead>\n",
       "    <tr style=\"text-align: right;\">\n",
       "      <th></th>\n",
       "      <th>date_info</th>\n",
       "      <th>name</th>\n",
       "      <th>title</th>\n",
       "      <th>content</th>\n",
       "      <th>rating</th>\n",
       "    </tr>\n",
       "  </thead>\n",
       "  <tbody>\n",
       "    <tr>\n",
       "      <th>0</th>\n",
       "      <td>Reviewed in India on 18 July 2019</td>\n",
       "      <td>Subhrangshu Saha</td>\n",
       "      <td>Review.</td>\n",
       "      <td>Being a gamer...i needed a monitor and this ca...</td>\n",
       "      <td>5.0 out of 5 stars</td>\n",
       "    </tr>\n",
       "    <tr>\n",
       "      <th>1</th>\n",
       "      <td>Reviewed in India on 6 July 2019</td>\n",
       "      <td>SKYE</td>\n",
       "      <td>Best gaming monitor under 10k</td>\n",
       "      <td>Out of the Box colors are not good..I had to m...</td>\n",
       "      <td>5.0 out of 5 stars</td>\n",
       "    </tr>\n",
       "    <tr>\n",
       "      <th>2</th>\n",
       "      <td>Reviewed in India on 28 August 2019</td>\n",
       "      <td>Zaheer</td>\n",
       "      <td>Great monitor just lags DisplayPort</td>\n",
       "      <td>Excellent gaming monitor. Came with a VGA and ...</td>\n",
       "      <td>4.0 out of 5 stars</td>\n",
       "    </tr>\n",
       "    <tr>\n",
       "      <th>3</th>\n",
       "      <td>Reviewed in India on 24 September 2019</td>\n",
       "      <td>ROY</td>\n",
       "      <td>FreeSync Isn't Working With VRB and Incomplete...</td>\n",
       "      <td>Gaming:-. Buy this monitor for gaming if you d...</td>\n",
       "      <td>3.0 out of 5 stars</td>\n",
       "    </tr>\n",
       "    <tr>\n",
       "      <th>4</th>\n",
       "      <td>Reviewed in India on 24 September 2019</td>\n",
       "      <td>Sanidhya Mishra</td>\n",
       "      <td>*Colour calibration required out of the box*</td>\n",
       "      <td>Great for the price, the viewing angles are pr...</td>\n",
       "      <td>4.0 out of 5 stars</td>\n",
       "    </tr>\n",
       "  </tbody>\n",
       "</table>\n",
       "</div>"
      ],
      "text/plain": [
       "                                date_info              name  \\\n",
       "0       Reviewed in India on 18 July 2019  Subhrangshu Saha   \n",
       "1        Reviewed in India on 6 July 2019              SKYE   \n",
       "2     Reviewed in India on 28 August 2019            Zaheer   \n",
       "3  Reviewed in India on 24 September 2019               ROY   \n",
       "4  Reviewed in India on 24 September 2019   Sanidhya Mishra   \n",
       "\n",
       "                                               title  \\\n",
       "0                                            Review.   \n",
       "1                      Best gaming monitor under 10k   \n",
       "2                Great monitor just lags DisplayPort   \n",
       "3  FreeSync Isn't Working With VRB and Incomplete...   \n",
       "4       *Colour calibration required out of the box*   \n",
       "\n",
       "                                             content              rating  \n",
       "0  Being a gamer...i needed a monitor and this ca...  5.0 out of 5 stars  \n",
       "1  Out of the Box colors are not good..I had to m...  5.0 out of 5 stars  \n",
       "2  Excellent gaming monitor. Came with a VGA and ...  4.0 out of 5 stars  \n",
       "3  Gaming:-. Buy this monitor for gaming if you d...  3.0 out of 5 stars  \n",
       "4  Great for the price, the viewing angles are pr...  4.0 out of 5 stars  "
      ]
     },
     "execution_count": 14,
     "metadata": {},
     "output_type": "execute_result"
    }
   ],
   "source": [
    "reviews_df[2].head(5)"
   ]
  },
  {
   "cell_type": "code",
   "execution_count": 30,
   "metadata": {},
   "outputs": [
    {
     "data": {
      "text/plain": [
       "['C:\\\\Users\\\\HY\\\\Desktop\\\\6290\\\\B01IBM5V66.csv',\n",
       " 'C:\\\\Users\\\\HY\\\\Desktop\\\\6290\\\\B07JDH2C8X.csv',\n",
       " 'C:\\\\Users\\\\HY\\\\Desktop\\\\6290\\\\B07S31CP9G.csv']"
      ]
     },
     "execution_count": 30,
     "metadata": {},
     "output_type": "execute_result"
    }
   ],
   "source": [
    "files = []\n",
    "path = r\"C:\\Users\\HY\\Desktop\\6290\"\n",
    "for x in range(0, counter):\n",
    "    files.append(path + '\\\\' + asin[x] + \".csv\")\n",
    "files[0:3]"
   ]
  },
  {
   "cell_type": "code",
   "execution_count": 33,
   "metadata": {},
   "outputs": [],
   "source": [
    "for x in range(0, counter):\n",
    "    reviews_df[x].to_csv(files[x], index = False, header = True)"
   ]
  }
 ],
 "metadata": {
  "kernelspec": {
   "display_name": "Python 3",
   "language": "python",
   "name": "python3"
  },
  "language_info": {
   "codemirror_mode": {
    "name": "ipython",
    "version": 3
   },
   "file_extension": ".py",
   "mimetype": "text/x-python",
   "name": "python",
   "nbconvert_exporter": "python",
   "pygments_lexer": "ipython3",
   "version": "3.8.3"
  }
 },
 "nbformat": 4,
 "nbformat_minor": 4
}
